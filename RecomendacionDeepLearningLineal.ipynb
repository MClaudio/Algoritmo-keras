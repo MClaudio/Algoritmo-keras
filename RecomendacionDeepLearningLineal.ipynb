{
 "cells": [
  {
   "cell_type": "code",
   "execution_count": null,
   "metadata": {
    "colab": {},
    "colab_type": "code",
    "id": "dKgjTRLxjnk7"
   },
   "outputs": [],
   "source": [
    "import pandas as pd\n",
    "import numpy as np\n",
    "from keras.models import Sequential, Model\n",
    "from keras.layers import Embedding, Reshape, Activation, Input, Dense, Flatten, Dropout\n",
    "from keras.layers.merge import Dot, multiply, concatenate\n",
    "from keras.utils import np_utils\n",
    "from keras.utils.data_utils import get_file\n",
    "from keras.preprocessing.text import Tokenizer\n",
    "from keras.preprocessing.sequence import skipgrams\n",
    "from collections import defaultdict\n",
    "from tensorflow import keras\n",
    "#Otro sistema empleado\n",
    "# Mapea las peliculas en base a su id \n",
    "def get_mapping(series):\n",
    "    occurances = defaultdict(int)\n",
    "    for element in series:\n",
    "        occurances[element] += 1\n",
    "    mapping = {}\n",
    "    i = 0\n",
    "    for element in occurances:\n",
    "        i += 1\n",
    "        mapping[element] = i\n",
    "\n",
    "    return mapping\n",
    "\n",
    "#Se carga los datos \n",
    "def get_data():\n",
    "    data = pd.read_csv(\"/content/sample_data/ratings.csv\")\n",
    "\n",
    "    mapping_work = get_mapping(data[\"movieId\"])\n",
    "\n",
    "    data[\"movieId\"] = data[\"movieId\"].map(mapping_work)\n",
    "\n",
    "    mapping_users = get_mapping(data[\"movieId\"])\n",
    "\n",
    "    data[\"movieId\"] = data[\"movieId\"].map(mapping_users)\n",
    "\n",
    "    percentil_80 = np.percentile(data[\"timestamp\"], 80)\n",
    "\n",
    "    print(\"percentil_80\",percentil_80)\n",
    "\n",
    "    print(\"timestamp<80\",np.mean(data[\"timestamp\"]<percentil_80))\n",
    "\n",
    "    print(\"timestamp>80\",np.mean(data[\"timestamp\"]>percentil_80))\n",
    "\n",
    "    cols = [\"userId\", \"movieId\", \"rating\"]\n",
    "\n",
    "    train = data[data.timestamp<percentil_80][cols]\n",
    "\n",
    "    print(\"train.shape\",train.shape)\n",
    "\n",
    "    test = data[data.timestamp>=percentil_80][cols]\n",
    "\n",
    "    print(\"test.shape\",test.shape)\n",
    "\n",
    "    max_user = max(data[\"userId\"].tolist() )\n",
    "    max_work = max(data[\"movieId\"].tolist() )\n",
    "\n",
    "\n",
    "    return train, test, max_user, max_work, mapping_work\n",
    "\n",
    "\n",
    "\n",
    "#Modelo 1\n",
    "def get_model_1(max_work, max_user):\n",
    "    dim_embedddings = 30\n",
    "    bias = 3\n",
    "    # entradas\n",
    "    w_inputs = Input(shape=(1,), dtype='int32')\n",
    "    w = Embedding(max_work+1, dim_embedddings, name=\"work\")(w_inputs)\n",
    "\n",
    "    # contexto\n",
    "    u_inputs = Input(shape=(1,), dtype='int32')\n",
    "    u = Embedding(max_user+1, dim_embedddings, name=\"user\")(u_inputs)\n",
    "    o = multiply([w, u])\n",
    "    o = Dropout(0.5)(o)\n",
    "    o = Flatten()(o)\n",
    "    o = Dense(8)(o)\n",
    "    o = Dense(1)(o)\n",
    "\n",
    "    rec_model = Model(inputs=[w_inputs, u_inputs], outputs=o)\n",
    "    #rec_model.summary()\n",
    "    rec_model.compile(loss='mae', optimizer='adam', metrics=[\"mae\", \"acc\"])\n",
    "\n",
    "    return rec_model\n",
    "\n",
    "#Modelo 2\n",
    "def get_model_2(max_work, max_user):\n",
    "    dim_embedddings = 30\n",
    "    bias = 1\n",
    "    # entrada\n",
    "    w_inputs = Input(shape=(1,), dtype='int32')\n",
    "    w = Embedding(max_work+1, dim_embedddings, name=\"work\")(w_inputs)\n",
    "    w_bis = Embedding(max_work + 1, bias, name=\"workbias\")(w_inputs)\n",
    "\n",
    "    # contexto\n",
    "    u_inputs = Input(shape=(1,), dtype='int32')\n",
    "    u = Embedding(max_user+1, dim_embedddings, name=\"user\")(u_inputs)\n",
    "    u_bis = Embedding(max_user + 1, bias, name=\"userbias\")(u_inputs)\n",
    "    o = multiply([w, u])\n",
    "    o = concatenate([o, u_bis, w_bis])\n",
    "    o = Dropout(0.5)(o)\n",
    "    o = Flatten()(o)\n",
    "    o = Dense(1)(o)\n",
    "\n",
    "    rec_model = Model(inputs=[w_inputs, u_inputs], outputs=o)\n",
    "    #rec_model.summary()\n",
    "    rec_model.compile(loss='mae', optimizer='adam', metrics=[\"mae\", \"acc\"])\n",
    "\n",
    "    return rec_model\n",
    "\n",
    "def get_model_3(max_work, max_user):\n",
    "    dim_embedddings = 30\n",
    "    bias = 1\n",
    "\n",
    "    # entrada\n",
    "    w_inputs = Input(shape=(1,), dtype='int32')\n",
    "    w = Embedding(max_work+1, dim_embedddings, name=\"work\")(w_inputs)\n",
    "    w_bis = Embedding(max_work + 1, bias, name=\"workbias\")(w_inputs)\n",
    "\n",
    "    # contexto\n",
    "    u_inputs = Input(shape=(1,), dtype='int32')\n",
    "    u = Embedding(max_user+1, dim_embedddings, name=\"user\")(u_inputs)\n",
    "    u_bis = Embedding(max_user + 1, bias, name=\"userbias\")(u_inputs)\n",
    "    o = multiply([w, u])\n",
    "    o = Dropout(0.5)(o)\n",
    "    o = concatenate([o, u_bis, w_bis])\n",
    "    o = Flatten()(o)\n",
    "    o = Dense(8, activation='linear')(o)\n",
    "    o = Dense(10, activation=\"relu\")(o)\n",
    "\n",
    "    o = Dense(1)(o)\n",
    "\n",
    "    rec_model = Model(inputs=[w_inputs, u_inputs], outputs=o)\n",
    "    #rec_model.summary()\n",
    "    \n",
    "    rec_model.compile(loss='mae', optimizer=keras.optimizers.Adam(lr=0.001), metrics=[\"mae\", \"acc\"])\n",
    "\n",
    "    return rec_model\n",
    "\n",
    "def get_array(series):\n",
    "    return np.array([[element] for element in series])"
   ]
  },
  {
   "cell_type": "code",
   "execution_count": null,
   "metadata": {
    "colab": {
     "base_uri": "https://localhost:8080/",
     "height": 183
    },
    "colab_type": "code",
    "id": "MpLsxtlGsmLe",
    "outputId": "9b57b115-2414-403b-fc71-56a88c08bd8a"
   },
   "outputs": [
    {
     "name": "stdout",
     "output_type": "stream",
     "text": [
      "Collecting utils\n",
      "  Downloading https://files.pythonhosted.org/packages/55/e6/c2d2b2703e7debc8b501caae0e6f7ead148fd0faa3c8131292a599930029/utils-1.0.1-py2.py3-none-any.whl\n",
      "Installing collected packages: utils\n",
      "Successfully installed utils-1.0.1\n",
      "Requirement already satisfied: plotly in /usr/local/lib/python3.6/dist-packages (4.4.1)\n",
      "Requirement already satisfied: retrying>=1.3.3 in /usr/local/lib/python3.6/dist-packages (from plotly) (1.3.3)\n",
      "Requirement already satisfied: six in /usr/local/lib/python3.6/dist-packages (from plotly) (1.15.0)\n",
      "\u001b[31mERROR: Could not find a version that satisfies the requirement pickle (from versions: none)\u001b[0m\n",
      "\u001b[31mERROR: No matching distribution found for pickle\u001b[0m\n"
     ]
    }
   ],
   "source": [
    "!pip install utils\n",
    "!pip install plotly\n",
    "!pip install pickle"
   ]
  },
  {
   "cell_type": "code",
   "execution_count": null,
   "metadata": {
    "colab": {},
    "colab_type": "code",
    "id": "t1SpQP-2ufmn"
   },
   "outputs": [],
   "source": [
    "from utils import *\n",
    "from sklearn.metrics import mean_absolute_error\n",
    "import pickle\n",
    "\n",
    "train, test, max_user, max_work, mapping_work = get_data()\n",
    "\n",
    "print(\"train\", train)\n",
    "print(\"test\", test)\n",
    "print(\"max_user\", max_user)\n",
    "print(\"max_work\", max_work)\n",
    "print(\"mapping_work\", mapping_work)"
   ]
  },
  {
   "cell_type": "code",
   "execution_count": null,
   "metadata": {
    "colab": {},
    "colab_type": "code",
    "id": "hXyEsmv2o0eP"
   },
   "outputs": [],
   "source": [
    "import time\n",
    "\n",
    "start = time.time()\n",
    "model = get_model_1(max_work, max_user)\n",
    "\n",
    "history = model.fit([get_array(train[\"movieId\"]), get_array(train[\"userId\"])], get_array(train[\"rating\"]), nb_epoch=20,\n",
    "                    validation_split=0.2, verbose=1)\n",
    "\n",
    "#model.save_weights(\"model_1.h5\")\n",
    "\n",
    "predictions = model.predict([get_array(test[\"movieId\"]), get_array(test[\"userId\"])])\n",
    "\n",
    "test_performance = mean_absolute_error(test[\"rating\"], predictions)\n",
    "\n",
    "print(\" Test Mae model 1 : %s \" % test_performance)\n",
    "print(\"Time finish:\",time.time() - start)\n"
   ]
  },
  {
   "cell_type": "code",
   "execution_count": null,
   "metadata": {
    "colab": {
     "base_uri": "https://localhost:8080/",
     "height": 295
    },
    "colab_type": "code",
    "id": "V28VgifmyEBZ",
    "outputId": "61f96bd6-20b8-4930-a19b-7246d4fb7a07"
   },
   "outputs": [
    {
     "data": {
      "image/png": "[encoded data removed]",
      "text/plain": [
       "<Figure size 432x288 with 1 Axes>"
      ]
     },
     "metadata": {
      "needs_background": "light",
      "tags": []
     },
     "output_type": "display_data"
    }
   ],
   "source": [
    "import matplotlib.pyplot as plt\n",
    "plt.plot(history.history[\"mae\"])\n",
    "plt.plot(history.history[\"val_mae\"])\n",
    "plt.title(\"model mae\")\n",
    "plt.ylabel(\"mae\")\n",
    "plt.xlabel(\"epoch\")\n",
    "plt.legend([\"train\", \"test\"], loc=\"upper left\")\n",
    "plt.show()\n"
   ]
  },
  {
   "cell_type": "code",
   "execution_count": null,
   "metadata": {
    "colab": {},
    "colab_type": "code",
    "id": "dXRpMsnsubKo"
   },
   "outputs": [],
   "source": [
    "start = time.time()\n",
    "model = get_model_2(max_work, max_user)\n",
    "\n",
    "history = model.fit([get_array(train[\"movieId\"]), get_array(train[\"userId\"])], get_array(train[\"rating\"]), nb_epoch=100,\n",
    "                    validation_split=0.2, verbose=1)\n",
    "\n",
    "predictions = model.predict([get_array(test[\"movieId\"]), get_array(test[\"userId\"])])\n",
    "\n",
    "test_performance = mean_absolute_error(test[\"rating\"], predictions)\n",
    "\n",
    "print(\" Test Mae model 2 : %s \" % test_performance)\n",
    "\n",
    "print(\"Time finish:\",time.time() - start)"
   ]
  },
  {
   "cell_type": "code",
   "execution_count": null,
   "metadata": {
    "colab": {
     "base_uri": "https://localhost:8080/",
     "height": 295
    },
    "colab_type": "code",
    "id": "s7KmJ8p-yGan",
    "outputId": "6ad48a05-3d4e-4ef6-ff18-c04e3a4e6a01"
   },
   "outputs": [
    {
     "data": {
      "image/png": "[encoded data removed]",
      "text/plain": [
       "<Figure size 432x288 with 1 Axes>"
      ]
     },
     "metadata": {
      "needs_background": "light",
      "tags": []
     },
     "output_type": "display_data"
    }
   ],
   "source": [
    "plt.plot(history.history[\"mae\"])\n",
    "plt.plot(history.history[\"val_mae\"])\n",
    "plt.title(\"model mae\")\n",
    "plt.ylabel(\"mae\")\n",
    "plt.xlabel(\"epoch\")\n",
    "plt.legend([\"train\", \"test\"], loc=\"upper left\")\n",
    "plt.show()\n"
   ]
  },
  {
   "cell_type": "code",
   "execution_count": null,
   "metadata": {
    "colab": {
     "base_uri": "https://localhost:8080/",
     "height": 1000
    },
    "colab_type": "code",
    "id": "ohhRFKK_ucnX",
    "outputId": "dc5e4c8b-fb88-4a25-f024-cef18bad94da"
   },
   "outputs": [
    {
     "name": "stderr",
     "output_type": "stream",
     "text": [
      "/usr/local/lib/python3.6/dist-packages/ipykernel_launcher.py:5: UserWarning: The `nb_epoch` argument in `fit` has been renamed `epochs`.\n",
      "  \"\"\"\n"
     ]
    },
    {
     "name": "stdout",
     "output_type": "stream",
     "text": [
      "Train on 64534 samples, validate on 16134 samples\n",
      "Epoch 1/50\n",
      "64534/64534 [==============================] - 9s 138us/step - loss: 0.8842 - mae: 0.8842 - acc: 0.2916 - val_loss: 0.8402 - val_mae: 0.8402 - val_acc: 0.2405\n",
      "Epoch 2/50\n",
      "64534/64534 [==============================] - 9s 138us/step - loss: 0.6252 - mae: 0.6252 - acc: 0.3647 - val_loss: 0.8240 - val_mae: 0.8240 - val_acc: 0.2518\n",
      "Epoch 3/50\n",
      "64534/64534 [==============================] - 9s 135us/step - loss: 0.5601 - mae: 0.5601 - acc: 0.4083 - val_loss: 0.8202 - val_mae: 0.8202 - val_acc: 0.2546\n",
      "Epoch 4/50\n",
      "64534/64534 [==============================] - 9s 141us/step - loss: 0.5209 - mae: 0.5209 - acc: 0.4323 - val_loss: 0.8163 - val_mae: 0.8163 - val_acc: 0.2562\n",
      "Epoch 5/50\n",
      "64534/64534 [==============================] - 9s 136us/step - loss: 0.4995 - mae: 0.4995 - acc: 0.4478 - val_loss: 0.7974 - val_mae: 0.7974 - val_acc: 0.2697\n",
      "Epoch 6/50\n",
      "64534/64534 [==============================] - 9s 140us/step - loss: 0.4820 - mae: 0.4820 - acc: 0.4572 - val_loss: 0.7811 - val_mae: 0.7811 - val_acc: 0.2782\n",
      "Epoch 7/50\n",
      "64534/64534 [==============================] - 9s 140us/step - loss: 0.4695 - mae: 0.4695 - acc: 0.4667 - val_loss: 0.7799 - val_mae: 0.7799 - val_acc: 0.2760\n",
      "Epoch 8/50\n",
      "64534/64534 [==============================] - 9s 136us/step - loss: 0.4610 - mae: 0.4610 - acc: 0.4731 - val_loss: 0.7797 - val_mae: 0.7797 - val_acc: 0.2805\n",
      "Epoch 9/50\n",
      "64534/64534 [==============================] - 9s 136us/step - loss: 0.4516 - mae: 0.4516 - acc: 0.4790 - val_loss: 0.7856 - val_mae: 0.7856 - val_acc: 0.2767\n",
      "Epoch 10/50\n",
      "64534/64534 [==============================] - 9s 141us/step - loss: 0.4462 - mae: 0.4462 - acc: 0.4807 - val_loss: 0.7804 - val_mae: 0.7804 - val_acc: 0.2781\n",
      "Epoch 11/50\n",
      "64534/64534 [==============================] - 9s 141us/step - loss: 0.4392 - mae: 0.4392 - acc: 0.4854 - val_loss: 0.7837 - val_mae: 0.7837 - val_acc: 0.2745\n",
      "Epoch 12/50\n",
      "64534/64534 [==============================] - 9s 135us/step - loss: 0.4370 - mae: 0.4370 - acc: 0.4872 - val_loss: 0.7800 - val_mae: 0.7800 - val_acc: 0.2737\n",
      "Epoch 13/50\n",
      "64534/64534 [==============================] - 9s 140us/step - loss: 0.4323 - mae: 0.4323 - acc: 0.4885 - val_loss: 0.7848 - val_mae: 0.7848 - val_acc: 0.2723\n",
      "Epoch 14/50\n",
      "64534/64534 [==============================] - 9s 136us/step - loss: 0.4291 - mae: 0.4291 - acc: 0.4899 - val_loss: 0.7728 - val_mae: 0.7728 - val_acc: 0.2800\n",
      "Epoch 15/50\n",
      "64534/64534 [==============================] - 9s 136us/step - loss: 0.4248 - mae: 0.4248 - acc: 0.4924 - val_loss: 0.7743 - val_mae: 0.7743 - val_acc: 0.2784\n",
      "Epoch 16/50\n",
      "64534/64534 [==============================] - 9s 142us/step - loss: 0.4233 - mae: 0.4233 - acc: 0.4953 - val_loss: 0.7694 - val_mae: 0.7694 - val_acc: 0.2792\n",
      "Epoch 17/50\n",
      "64534/64534 [==============================] - 8s 131us/step - loss: 0.4217 - mae: 0.4217 - acc: 0.4957 - val_loss: 0.7671 - val_mae: 0.7671 - val_acc: 0.2811\n",
      "Epoch 18/50\n",
      "64534/64534 [==============================] - 9s 136us/step - loss: 0.4179 - mae: 0.4179 - acc: 0.5000 - val_loss: 0.7638 - val_mae: 0.7638 - val_acc: 0.2850\n",
      "Epoch 19/50\n",
      "64534/64534 [==============================] - 9s 136us/step - loss: 0.4149 - mae: 0.4149 - acc: 0.5007 - val_loss: 0.7760 - val_mae: 0.7760 - val_acc: 0.2803\n",
      "Epoch 20/50\n",
      "64534/64534 [==============================] - 9s 136us/step - loss: 0.4153 - mae: 0.4153 - acc: 0.4981 - val_loss: 0.7680 - val_mae: 0.7680 - val_acc: 0.2831\n",
      "Epoch 21/50\n",
      "64534/64534 [==============================] - 9s 134us/step - loss: 0.4115 - mae: 0.4115 - acc: 0.5009 - val_loss: 0.7752 - val_mae: 0.7752 - val_acc: 0.2792\n",
      "Epoch 22/50\n",
      "64534/64534 [==============================] - 9s 135us/step - loss: 0.4084 - mae: 0.4084 - acc: 0.5054 - val_loss: 0.7650 - val_mae: 0.7650 - val_acc: 0.2837\n",
      "Epoch 23/50\n",
      "64534/64534 [==============================] - 9s 137us/step - loss: 0.4087 - mae: 0.4087 - acc: 0.5026 - val_loss: 0.7688 - val_mae: 0.7688 - val_acc: 0.2827\n",
      "Epoch 24/50\n",
      "64534/64534 [==============================] - 9s 132us/step - loss: 0.4067 - mae: 0.4067 - acc: 0.5047 - val_loss: 0.7632 - val_mae: 0.7632 - val_acc: 0.2839\n",
      "Epoch 25/50\n",
      "64534/64534 [==============================] - 9s 137us/step - loss: 0.4044 - mae: 0.4044 - acc: 0.5079 - val_loss: 0.7653 - val_mae: 0.7653 - val_acc: 0.2816\n",
      "Epoch 26/50\n",
      "64534/64534 [==============================] - 9s 134us/step - loss: 0.4045 - mae: 0.4045 - acc: 0.5075 - val_loss: 0.7640 - val_mae: 0.7640 - val_acc: 0.2845\n",
      "Epoch 27/50\n",
      "64534/64534 [==============================] - 9s 133us/step - loss: 0.4028 - mae: 0.4028 - acc: 0.5088 - val_loss: 0.7672 - val_mae: 0.7672 - val_acc: 0.2823\n",
      "Epoch 28/50\n",
      "64534/64534 [==============================] - 9s 134us/step - loss: 0.4013 - mae: 0.4013 - acc: 0.5069 - val_loss: 0.7620 - val_mae: 0.7620 - val_acc: 0.2857\n",
      "Epoch 29/50\n",
      "64534/64534 [==============================] - 9s 135us/step - loss: 0.4007 - mae: 0.4007 - acc: 0.5088 - val_loss: 0.7624 - val_mae: 0.7624 - val_acc: 0.2853\n",
      "Epoch 30/50\n",
      "64534/64534 [==============================] - 9s 141us/step - loss: 0.3977 - mae: 0.3977 - acc: 0.5110 - val_loss: 0.7625 - val_mae: 0.7625 - val_acc: 0.2855\n",
      "Epoch 31/50\n",
      "64534/64534 [==============================] - 9s 138us/step - loss: 0.3968 - mae: 0.3968 - acc: 0.5143 - val_loss: 0.7717 - val_mae: 0.7717 - val_acc: 0.2803\n",
      "Epoch 32/50\n",
      "64534/64534 [==============================] - 9s 134us/step - loss: 0.3931 - mae: 0.3931 - acc: 0.5160 - val_loss: 0.7696 - val_mae: 0.7696 - val_acc: 0.2816\n",
      "Epoch 33/50\n",
      "64534/64534 [==============================] - 9s 142us/step - loss: 0.3903 - mae: 0.3903 - acc: 0.5196 - val_loss: 0.7648 - val_mae: 0.7648 - val_acc: 0.2846\n",
      "Epoch 34/50\n",
      "64534/64534 [==============================] - 9s 140us/step - loss: 0.3903 - mae: 0.3903 - acc: 0.5177 - val_loss: 0.7626 - val_mae: 0.7626 - val_acc: 0.2848\n",
      "Epoch 35/50\n",
      "64534/64534 [==============================] - 9s 139us/step - loss: 0.3899 - mae: 0.3899 - acc: 0.5190 - val_loss: 0.7638 - val_mae: 0.7638 - val_acc: 0.2846\n",
      "Epoch 36/50\n",
      "64534/64534 [==============================] - 9s 135us/step - loss: 0.3875 - mae: 0.3875 - acc: 0.5192 - val_loss: 0.7618 - val_mae: 0.7618 - val_acc: 0.2874\n",
      "Epoch 37/50\n",
      "64534/64534 [==============================] - 10s 151us/step - loss: 0.3867 - mae: 0.3867 - acc: 0.5211 - val_loss: 0.7638 - val_mae: 0.7638 - val_acc: 0.2860\n",
      "Epoch 38/50\n",
      "64534/64534 [==============================] - 9s 139us/step - loss: 0.3855 - mae: 0.3855 - acc: 0.5216 - val_loss: 0.7641 - val_mae: 0.7641 - val_acc: 0.2855\n",
      "Epoch 39/50\n",
      "64534/64534 [==============================] - 9s 138us/step - loss: 0.3868 - mae: 0.3868 - acc: 0.5208 - val_loss: 0.7690 - val_mae: 0.7690 - val_acc: 0.2828\n",
      "Epoch 40/50\n",
      "64534/64534 [==============================] - 9s 138us/step - loss: 0.3849 - mae: 0.3849 - acc: 0.5199 - val_loss: 0.7648 - val_mae: 0.7648 - val_acc: 0.2853\n",
      "Epoch 41/50\n",
      "64534/64534 [==============================] - 9s 135us/step - loss: 0.3842 - mae: 0.3842 - acc: 0.5225 - val_loss: 0.7668 - val_mae: 0.7668 - val_acc: 0.2845\n",
      "Epoch 42/50\n",
      "64534/64534 [==============================] - 8s 131us/step - loss: 0.3838 - mae: 0.3838 - acc: 0.5213 - val_loss: 0.7636 - val_mae: 0.7636 - val_acc: 0.2881\n",
      "Epoch 43/50\n",
      "64534/64534 [==============================] - 9s 137us/step - loss: 0.3811 - mae: 0.3811 - acc: 0.5245 - val_loss: 0.7641 - val_mae: 0.7641 - val_acc: 0.2873\n",
      "Epoch 44/50\n",
      "64534/64534 [==============================] - 9s 141us/step - loss: 0.3809 - mae: 0.3809 - acc: 0.5236 - val_loss: 0.7622 - val_mae: 0.7622 - val_acc: 0.2875\n",
      "Epoch 45/50\n",
      "64534/64534 [==============================] - 9s 136us/step - loss: 0.3803 - mae: 0.3803 - acc: 0.5253 - val_loss: 0.7634 - val_mae: 0.7634 - val_acc: 0.2862\n",
      "Epoch 46/50\n",
      "64534/64534 [==============================] - 9s 142us/step - loss: 0.3822 - mae: 0.3822 - acc: 0.5240 - val_loss: 0.7611 - val_mae: 0.7611 - val_acc: 0.2877\n",
      "Epoch 47/50\n",
      "64534/64534 [==============================] - 9s 145us/step - loss: 0.3786 - mae: 0.3786 - acc: 0.5259 - val_loss: 0.7624 - val_mae: 0.7624 - val_acc: 0.2875\n",
      "Epoch 48/50\n",
      "64534/64534 [==============================] - 10s 148us/step - loss: 0.3789 - mae: 0.3789 - acc: 0.5259 - val_loss: 0.7634 - val_mae: 0.7634 - val_acc: 0.2862\n",
      "Epoch 49/50\n",
      "64534/64534 [==============================] - 9s 137us/step - loss: 0.3772 - mae: 0.3772 - acc: 0.5283 - val_loss: 0.7628 - val_mae: 0.7628 - val_acc: 0.2884\n",
      "Epoch 50/50\n",
      "64534/64534 [==============================] - 9s 135us/step - loss: 0.3783 - mae: 0.3783 - acc: 0.5243 - val_loss: 0.7634 - val_mae: 0.7634 - val_acc: 0.2878\n",
      "Test Mae model 3 : 0.7893424235588735 \n",
      "Time finish: 446.524897813797\n"
     ]
    }
   ],
   "source": [
    "start = time.time()\n",
    "model = get_model_3(max_work, max_user)\n",
    "\n",
    "history = model.fit([get_array(train[\"movieId\"]), get_array(train[\"userId\"])], get_array(train[\"rating\"]), nb_epoch=50,\n",
    "                    validation_split=0.2, verbose=1)\n",
    "\n",
    "predictions = model.predict([get_array(test[\"movieId\"]), get_array(test[\"userId\"])])\n",
    "\n",
    "test_performance = mean_absolute_error(test[\"rating\"], predictions)\n",
    "\n",
    "print(\"Test Mae model 3 : %s \" % test_performance)\n",
    "\n",
    "print(\"Time finish:\",time.time() - start)\n",
    "\n",
    "#Test Mae model 3 : 0.7782244602220487 \n",
    "#Time finish: 178.79273128509521"
   ]
  },
  {
   "cell_type": "code",
   "execution_count": null,
   "metadata": {
    "colab": {
     "base_uri": "https://localhost:8080/",
     "height": 295
    },
    "colab_type": "code",
    "id": "msdmxCx5yIqH",
    "outputId": "be1b39d2-3602-4176-fc32-4761e392c069"
   },
   "outputs": [
    {
     "data": {
      "image/png": "[encoded data removed]",
      "text/plain": [
       "<Figure size 432x288 with 1 Axes>"
      ]
     },
     "metadata": {
      "needs_background": "light",
      "tags": []
     },
     "output_type": "display_data"
    }
   ],
   "source": [
    "plt.plot(history.history[\"mae\"])\n",
    "plt.plot(history.history[\"val_mae\"])\n",
    "plt.title(\"model mae\")\n",
    "plt.ylabel(\"mae\")\n",
    "plt.xlabel(\"epoch\")\n",
    "plt.legend([\"train\", \"test\"], loc=\"upper left\")\n",
    "plt.show()\n"
   ]
  }
 ],
 "metadata": {
  "accelerator": "GPU",
  "colab": {
   "name": "RecomendacionDeepLearningLineal.ipynb",
   "provenance": []
  },
  "kernelspec": {
   "display_name": "Python 3",
   "language": "python",
   "name": "python3"
  },
  "language_info": {
   "codemirror_mode": {
    "name": "ipython",
    "version": 3
   },
   "file_extension": ".py",
   "mimetype": "text/x-python",
   "name": "python",
   "nbconvert_exporter": "python",
   "pygments_lexer": "ipython3",
   "version": "3.7.6"
  }
 },
 "nbformat": 4,
 "nbformat_minor": 1
}
