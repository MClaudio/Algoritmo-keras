{
 "cells": [
  {
   "cell_type": "code",
   "execution_count": 17,
   "metadata": {
    "colab": {},
    "colab_type": "code",
    "id": "42x6AEBQ2Ueh"
   },
   "outputs": [],
   "source": [
    "#Importamos las librerias\n",
    "\n",
    "import pandas as pd\n",
    "import numpy as np\n",
    "from zipfile import ZipFile\n",
    "import tensorflow as tf\n",
    "from tensorflow import keras\n",
    "from tensorflow.keras import layers\n",
    "from pathlib import Path\n",
    "import matplotlib.pyplot as plt\n",
    "from sklearn.metrics import mean_absolute_error\n",
    "\n"
   ]
  },
  {
   "cell_type": "code",
   "execution_count": 18,
   "metadata": {
    "colab": {
     "base_uri": "https://localhost:8080/",
     "height": 206
    },
    "colab_type": "code",
    "id": "GduwyQrfSvEf",
    "outputId": "0a8887c8-6a13-4816-d1ed-3397d8ad419b"
   },
   "outputs": [
    {
     "data": {
      "text/html": [
       "<div>\n",
       "<style scoped>\n",
       "    .dataframe tbody tr th:only-of-type {\n",
       "        vertical-align: middle;\n",
       "    }\n",
       "\n",
       "    .dataframe tbody tr th {\n",
       "        vertical-align: top;\n",
       "    }\n",
       "\n",
       "    .dataframe thead th {\n",
       "        text-align: right;\n",
       "    }\n",
       "</style>\n",
       "<table border=\"1\" class=\"dataframe\">\n",
       "  <thead>\n",
       "    <tr style=\"text-align: right;\">\n",
       "      <th></th>\n",
       "      <th>userId</th>\n",
       "      <th>movieId</th>\n",
       "      <th>rating</th>\n",
       "      <th>timestamp</th>\n",
       "    </tr>\n",
       "  </thead>\n",
       "  <tbody>\n",
       "    <tr>\n",
       "      <th>0</th>\n",
       "      <td>1</td>\n",
       "      <td>1</td>\n",
       "      <td>4.0</td>\n",
       "      <td>964982703</td>\n",
       "    </tr>\n",
       "    <tr>\n",
       "      <th>1</th>\n",
       "      <td>1</td>\n",
       "      <td>3</td>\n",
       "      <td>4.0</td>\n",
       "      <td>964981247</td>\n",
       "    </tr>\n",
       "    <tr>\n",
       "      <th>2</th>\n",
       "      <td>1</td>\n",
       "      <td>6</td>\n",
       "      <td>4.0</td>\n",
       "      <td>964982224</td>\n",
       "    </tr>\n",
       "    <tr>\n",
       "      <th>3</th>\n",
       "      <td>1</td>\n",
       "      <td>47</td>\n",
       "      <td>5.0</td>\n",
       "      <td>964983815</td>\n",
       "    </tr>\n",
       "    <tr>\n",
       "      <th>4</th>\n",
       "      <td>1</td>\n",
       "      <td>50</td>\n",
       "      <td>5.0</td>\n",
       "      <td>964982931</td>\n",
       "    </tr>\n",
       "  </tbody>\n",
       "</table>\n",
       "</div>"
      ],
      "text/plain": [
       "   userId  movieId  rating  timestamp\n",
       "0       1        1     4.0  964982703\n",
       "1       1        3     4.0  964981247\n",
       "2       1        6     4.0  964982224\n",
       "3       1       47     5.0  964983815\n",
       "4       1       50     5.0  964982931"
      ]
     },
     "execution_count": 18,
     "metadata": {
      "tags": []
     },
     "output_type": "execute_result"
    }
   ],
   "source": [
    "# Descargue los datos reales de http://files.grouplens.org/datasets/movielens/ml-latest-small.zip\"\n",
    "movielens_data_file_url = (\n",
    "    \"http://files.grouplens.org/datasets/movielens/ml-latest-small.zip\"\n",
    ")\n",
    "movielens_zipped_file = keras.utils.get_file(\n",
    "    \"ml-latest-small.zip\", movielens_data_file_url, extract=False\n",
    ")\n",
    "keras_datasets_path = Path(movielens_zipped_file).parents[0]\n",
    "movielens_dir = keras_datasets_path / \"ml-latest-small\"\n",
    "\n",
    "# Se extrae los datos descargados \n",
    "if not movielens_dir.exists():\n",
    "    with ZipFile(movielens_zipped_file, \"r\") as zip:\n",
    "        # Extract files\n",
    "        print(\"Extracting all the files now...\")\n",
    "        zip.extractall(path=keras_datasets_path)\n",
    "        print(\"Done!\")\n",
    "\n",
    "ratings_file = movielens_dir / \"ratings.csv\"\n",
    "df = pd.read_csv(ratings_file)\n",
    "df.head()\n"
   ]
  },
  {
   "cell_type": "code",
   "execution_count": 19,
   "metadata": {
    "colab": {
     "base_uri": "https://localhost:8080/",
     "height": 35
    },
    "colab_type": "code",
    "id": "c1o_Mt_cS0Jb",
    "outputId": "d72ca105-8bae-47ba-c825-3d485c3ac6d4"
   },
   "outputs": [
    {
     "name": "stdout",
     "output_type": "stream",
     "text": [
      "Numero de usuarios: 610, Numero de peliculas: 9724, Calificacion minima: 0.5, Maxima calificacion: 5.0\n"
     ]
    }
   ],
   "source": [
    "\"\"\"\n",
    "Primero, es necesario realizar un preprocesamiento para codificar usuarios y películas como índices enteros.\n",
    "\"\"\"\n",
    "user_ids = df[\"userId\"].unique().tolist()\n",
    "user2user_encoded = {x: i for i, x in enumerate(user_ids)}\n",
    "userencoded2user = {i: x for i, x in enumerate(user_ids)}\n",
    "movie_ids = df[\"movieId\"].unique().tolist()\n",
    "movie2movie_encoded = {x: i for i, x in enumerate(movie_ids)}\n",
    "movie_encoded2movie = {i: x for i, x in enumerate(movie_ids)}\n",
    "df[\"user\"] = df[\"userId\"].map(user2user_encoded)\n",
    "df[\"movie\"] = df[\"movieId\"].map(movie2movie_encoded)\n",
    "\n",
    "num_users = len(user2user_encoded)\n",
    "num_movies = len(movie_encoded2movie)\n",
    "df[\"rating\"] = df[\"rating\"].values.astype(np.float32)\n",
    "\n",
    "min_rating = min(df[\"rating\"])\n",
    "max_rating = max(df[\"rating\"])\n",
    "\n",
    "print(\n",
    "    \"Numero de usuarios: {}, Numero de peliculas: {}, Calificacion minima: {}, Maxima calificacion: {}\".format(\n",
    "        num_users, num_movies, min_rating, max_rating\n",
    "    )\n",
    ")\n"
   ]
  },
  {
   "cell_type": "code",
   "execution_count": 20,
   "metadata": {
    "colab": {},
    "colab_type": "code",
    "id": "Dpw-rqDPS6Km"
   },
   "outputs": [],
   "source": [
    "#Separacion en train y test\n",
    "df = df.sample(frac=1, random_state=42)\n",
    "x = df[[\"user\", \"movie\"]].values\n",
    "\n",
    "# Normaliza los objetivos entre 0 y 1. Facilita el entrenamiento.\n",
    "y = df[\"rating\"].apply(lambda x: (x - min_rating) / (max_rating - min_rating)).values\n",
    "\n",
    "# Asumiendo capacitación en el 90% de los datos y validando en el 10%.\n",
    "train_indices = int(0.8 * df.shape[0])\n",
    "x_train, x_val, y_train, y_val = (\n",
    "    x[:train_indices],\n",
    "    x[train_indices:],\n",
    "    y[:train_indices],\n",
    "    y[train_indices:],\n",
    ")\n"
   ]
  },
  {
   "cell_type": "code",
   "execution_count": 21,
   "metadata": {
    "colab": {},
    "colab_type": "code",
    "id": "pJR98sJlT8D_"
   },
   "outputs": [],
   "source": [
    "EMBEDDING_SIZE = 50\n",
    "\n",
    "\n",
    "class RecommenderNet(keras.Model):\n",
    "    def __init__(self, num_users, num_movies, embedding_size, **kwargs):\n",
    "        super(RecommenderNet, self).__init__(**kwargs)\n",
    "        self.num_users = num_users\n",
    "        self.num_movies = num_movies\n",
    "        self.embedding_size = embedding_size\n",
    "        self.user_embedding = layers.Embedding(\n",
    "            num_users,\n",
    "            embedding_size,\n",
    "            embeddings_initializer=\"he_normal\",\n",
    "            embeddings_regularizer=keras.regularizers.l2(1e-6),\n",
    "        )\n",
    "        self.user_bias = layers.Embedding(num_users, 1)\n",
    "        self.movie_embedding = layers.Embedding(\n",
    "            num_movies,\n",
    "            embedding_size,\n",
    "            embeddings_initializer=\"he_normal\",\n",
    "            embeddings_regularizer=keras.regularizers.l2(1e-6),\n",
    "        )\n",
    "        self.movie_bias = layers.Embedding(num_movies, 1)\n",
    "\n",
    "    def call(self, inputs):\n",
    "        user_vector = self.user_embedding(inputs[:, 0])\n",
    "        user_bias = self.user_bias(inputs[:, 0])\n",
    "        movie_vector = self.movie_embedding(inputs[:, 1])\n",
    "        movie_bias = self.movie_bias(inputs[:, 1])\n",
    "        dot_user_movie = tf.tensordot(user_vector, movie_vector, 2)\n",
    "        # Add all the components (including bias)\n",
    "        x = dot_user_movie + user_bias + movie_bias\n",
    "        # The sigmoid activation forces the rating to between 0 and 1\n",
    "        return tf.nn.sigmoid(x)\n",
    "\n",
    "\n",
    "model = RecommenderNet(num_users, num_movies, EMBEDDING_SIZE)\n",
    "model.compile(\n",
    "    loss=tf.keras.losses.BinaryCrossentropy(), optimizer=keras.optimizers.Adam(lr=0.001), metrics=[\"mae\", \"acc\"]\n",
    ")\n",
    "\n",
    "#model.summary()"
   ]
  },
  {
   "cell_type": "code",
   "execution_count": 22,
   "metadata": {
    "colab": {
     "base_uri": "https://localhost:8080/",
     "height": 775
    },
    "colab_type": "code",
    "id": "-qLUOC8IS-XL",
    "outputId": "6e9638b0-02d2-4f1f-f595-0c1451aaf346"
   },
   "outputs": [
    {
     "name": "stdout",
     "output_type": "stream",
     "text": [
      "Epoch 1/20\n",
      "1261/1261 [==============================] - 7s 6ms/step - loss: 0.6379 - mae: 0.1883 - acc: 0.1271 - val_loss: 0.6206 - val_mae: 0.1698 - val_acc: 0.1304\n",
      "Epoch 2/20\n",
      "1261/1261 [==============================] - 7s 6ms/step - loss: 0.6147 - mae: 0.1642 - acc: 0.1327 - val_loss: 0.6207 - val_mae: 0.1733 - val_acc: 0.1334\n",
      "Epoch 3/20\n",
      "1261/1261 [==============================] - 7s 6ms/step - loss: 0.6089 - mae: 0.1584 - acc: 0.1341 - val_loss: 0.6151 - val_mae: 0.1670 - val_acc: 0.1334\n",
      "Epoch 4/20\n",
      "1261/1261 [==============================] - 7s 5ms/step - loss: 0.6082 - mae: 0.1574 - acc: 0.1348 - val_loss: 0.6146 - val_mae: 0.1663 - val_acc: 0.1336\n",
      "Epoch 5/20\n",
      "1261/1261 [==============================] - 7s 5ms/step - loss: 0.6067 - mae: 0.1557 - acc: 0.1351 - val_loss: 0.6137 - val_mae: 0.1648 - val_acc: 0.1329\n",
      "Epoch 6/20\n",
      "1261/1261 [==============================] - 7s 5ms/step - loss: 0.6061 - mae: 0.1547 - acc: 0.1353 - val_loss: 0.6133 - val_mae: 0.1642 - val_acc: 0.1328\n",
      "Epoch 7/20\n",
      "1261/1261 [==============================] - 7s 6ms/step - loss: 0.6055 - mae: 0.1542 - acc: 0.1357 - val_loss: 0.6110 - val_mae: 0.1605 - val_acc: 0.1333\n",
      "Epoch 8/20\n",
      "1261/1261 [==============================] - 7s 6ms/step - loss: 0.6048 - mae: 0.1531 - acc: 0.1357 - val_loss: 0.6105 - val_mae: 0.1600 - val_acc: 0.1331\n",
      "Epoch 9/20\n",
      "1261/1261 [==============================] - 8s 6ms/step - loss: 0.6047 - mae: 0.1527 - acc: 0.1364 - val_loss: 0.6124 - val_mae: 0.1620 - val_acc: 0.1326\n",
      "Epoch 10/20\n",
      "1261/1261 [==============================] - 9s 7ms/step - loss: 0.6036 - mae: 0.1516 - acc: 0.1364 - val_loss: 0.6114 - val_mae: 0.1612 - val_acc: 0.1338\n",
      "Epoch 11/20\n",
      "1261/1261 [==============================] - 8s 6ms/step - loss: 0.6039 - mae: 0.1518 - acc: 0.1362 - val_loss: 0.6107 - val_mae: 0.1595 - val_acc: 0.1337\n",
      "Epoch 12/20\n",
      "1261/1261 [==============================] - 8s 7ms/step - loss: 0.6038 - mae: 0.1516 - acc: 0.1361 - val_loss: 0.6121 - val_mae: 0.1610 - val_acc: 0.1333\n",
      "Epoch 13/20\n",
      "1261/1261 [==============================] - 8s 6ms/step - loss: 0.6020 - mae: 0.1499 - acc: 0.1363 - val_loss: 0.6119 - val_mae: 0.1600 - val_acc: 0.1334\n",
      "Epoch 14/20\n",
      "1261/1261 [==============================] - 8s 6ms/step - loss: 0.6027 - mae: 0.1502 - acc: 0.1364 - val_loss: 0.6127 - val_mae: 0.1606 - val_acc: 0.1333\n",
      "Epoch 15/20\n",
      "1261/1261 [==============================] - 8s 6ms/step - loss: 0.6033 - mae: 0.1509 - acc: 0.1365 - val_loss: 0.6109 - val_mae: 0.1577 - val_acc: 0.1334\n",
      "Epoch 16/20\n",
      "1261/1261 [==============================] - 8s 6ms/step - loss: 0.6046 - mae: 0.1514 - acc: 0.1361 - val_loss: 0.6114 - val_mae: 0.1584 - val_acc: 0.1330\n",
      "Epoch 17/20\n",
      "1261/1261 [==============================] - 8s 6ms/step - loss: 0.6038 - mae: 0.1508 - acc: 0.1367 - val_loss: 0.6146 - val_mae: 0.1616 - val_acc: 0.1321\n",
      "Epoch 18/20\n",
      "1261/1261 [==============================] - 7s 6ms/step - loss: 0.6037 - mae: 0.1507 - acc: 0.1367 - val_loss: 0.6129 - val_mae: 0.1597 - val_acc: 0.1325\n",
      "Epoch 19/20\n",
      "1261/1261 [==============================] - 7s 6ms/step - loss: 0.6043 - mae: 0.1511 - acc: 0.1366 - val_loss: 0.6144 - val_mae: 0.1615 - val_acc: 0.1328\n",
      "Epoch 20/20\n",
      "1261/1261 [==============================] - 7s 6ms/step - loss: 0.6036 - mae: 0.1504 - acc: 0.1364 - val_loss: 0.6142 - val_mae: 0.1604 - val_acc: 0.1329\n",
      "Time finish: 150.67877674102783\n"
     ]
    }
   ],
   "source": [
    "import time\n",
    "\"\"\"\n",
    "## Entrene el modelo basado en la división de datos\n",
    "\"\"\"\n",
    "start = time.time()\n",
    "\n",
    "history = model.fit(x=x_train,y=y_train,batch_size=64,epochs=20,verbose=1,validation_data=(x_val, y_val),)\n",
    "\n",
    "print(\"Time finish:\",time.time() - start)\n"
   ]
  },
  {
   "cell_type": "code",
   "execution_count": 23,
   "metadata": {
    "colab": {
     "base_uri": "https://localhost:8080/",
     "height": 295
    },
    "colab_type": "code",
    "id": "fepLvSZxVmNY",
    "outputId": "7c45cb99-76bf-4e89-8d2c-b9be5466c9c3"
   },
   "outputs": [
    {
     "data": {
      "image/png": "[encoded data removed]",
      "text/plain": [
       "<Figure size 432x288 with 1 Axes>"
      ]
     },
     "metadata": {
      "needs_background": "light",
      "tags": []
     },
     "output_type": "display_data"
    }
   ],
   "source": [
    "\"\"\"\n",
    "## Grafica de error MAE\n",
    "\"\"\"\n",
    "plt.plot(history.history[\"mae\"])\n",
    "plt.plot(history.history[\"val_mae\"])\n",
    "plt.title(\"model mae\")\n",
    "plt.ylabel(\"mae\")\n",
    "plt.xlabel(\"epoch\")\n",
    "plt.legend([\"train\", \"test\"], loc=\"upper left\")\n",
    "plt.show()"
   ]
  },
  {
   "cell_type": "code",
   "execution_count": 24,
   "metadata": {
    "colab": {
     "base_uri": "https://localhost:8080/",
     "height": 295
    },
    "colab_type": "code",
    "id": "RwrSFgsOdGA5",
    "outputId": "4ced3558-c569-49f8-8c68-5b23017fdf69"
   },
   "outputs": [
    {
     "data": {
      "image/png": "[encoded data removed]",
      "text/plain": [
       "<Figure size 432x288 with 1 Axes>"
      ]
     },
     "metadata": {
      "needs_background": "light",
      "tags": []
     },
     "output_type": "display_data"
    }
   ],
   "source": [
    "\"\"\"\n",
    "## Grafica de error ACC\n",
    "\"\"\"\n",
    "plt.plot(history.history[\"acc\"])\n",
    "plt.plot(history.history[\"val_acc\"])\n",
    "plt.title(\"model acc\")\n",
    "plt.ylabel(\"acc\")\n",
    "plt.xlabel(\"epoch\")\n",
    "plt.legend([\"train\", \"test\"], loc=\"upper left\")\n",
    "plt.show()"
   ]
  },
  {
   "cell_type": "code",
   "execution_count": 25,
   "metadata": {
    "colab": {
     "base_uri": "https://localhost:8080/",
     "height": 54
    },
    "colab_type": "code",
    "id": "vl_QBOMGXpMm",
    "outputId": "dcee9771-55a8-4560-9be5-5a2c11a33a9e"
   },
   "outputs": [
    {
     "name": "stdout",
     "output_type": "stream",
     "text": [
      "Error medio train 0.1549534596502781\n",
      "Error medio test 0.16246821433305741\n"
     ]
    }
   ],
   "source": [
    "print(\"Error medio train\", np.mean(history.history[\"mae\"]))\n",
    "print(\"Error medio test\", np.mean(history.history[\"val_mae\"]))"
   ]
  },
  {
   "cell_type": "code",
   "execution_count": 26,
   "metadata": {
    "colab": {},
    "colab_type": "code",
    "id": "cxMVFGbtV2pt"
   },
   "outputs": [],
   "source": [
    "\"\"\"\n",
    "## Mostrar las 10 mejores recomendaciones de películas para una usuaria.\n",
    "\"\"\"\n",
    "\n",
    "movie_df = pd.read_csv(movielens_dir / \"movies.csv\")\n",
    "\n",
    "# Let us get a user and see the top recommendations.\n",
    "user_id = df.userId.sample(1).iloc[0]\n",
    "movies_watched_by_user = df[df.userId == user_id]\n",
    "movies_not_watched = movie_df[~movie_df[\"movieId\"].isin(movies_watched_by_user.movieId.values)][\"movieId\"]\n",
    "movies_not_watched = list(set(movies_not_watched).intersection(set(movie2movie_encoded.keys())))\n",
    "movies_not_watched = [[movie2movie_encoded.get(x)] for x in movies_not_watched]\n",
    "user_encoder = user2user_encoded.get(user_id)\n",
    "user_movie_array = np.hstack(([[user_encoder]] * len(movies_not_watched), movies_not_watched))\n",
    "\n",
    "ratings = model.predict(user_movie_array).flatten()\n",
    "\n",
    "top_ratings_indices = ratings.argsort()[-10:][::-1]\n",
    "recommended_movie_ids = [movie_encoded2movie.get(movies_not_watched[x][0]) for x in top_ratings_indices]"
   ]
  },
  {
   "cell_type": "code",
   "execution_count": 27,
   "metadata": {
    "colab": {
     "base_uri": "https://localhost:8080/",
     "height": 72
    },
    "colab_type": "code",
    "id": "VQ_dXTiNZT2C",
    "outputId": "b1ac74fe-62a1-4f56-b162-0f13f47cb6b3"
   },
   "outputs": [
    {
     "name": "stdout",
     "output_type": "stream",
     "text": [
      "40336\n",
      "9648\n",
      "100836\n"
     ]
    }
   ],
   "source": [
    "predictions = model.predict(user_movie_array)\n",
    "print(x_val.size)\n",
    "print(ratings.size)\n",
    "print(y.size)"
   ]
  },
  {
   "cell_type": "code",
   "execution_count": 28,
   "metadata": {
    "colab": {
     "base_uri": "https://localhost:8080/",
     "height": 424
    },
    "colab_type": "code",
    "id": "NkdfrOgXTI66",
    "outputId": "d085a011-baba-4d03-aaac-25538e84d2d6"
   },
   "outputs": [
    {
     "name": "stdout",
     "output_type": "stream",
     "text": [
      "Mostrando recomendaciones para la usuaria: 241\n",
      "====================================\n",
      "Películas con altas calificaciones del usuario\n",
      "--------------------------------\n",
      "Before Sunrise (1995) : Drama|Romance\n",
      "Amelie (Fabuleux destin d'Amélie Poulain, Le) (2001) : Comedy|Romance\n",
      "Before Sunset (2004) : Drama|Romance\n",
      "Before Midnight (2013) : Drama|Romance\n",
      "Her (2013) : Drama|Romance|Sci-Fi\n",
      "--------------------------------\n",
      "Las 10 mejores recomendaciones de películas\n",
      "--------------------------------\n",
      "Philadelphia Story, The (1940) : Comedy|Drama|Romance\n",
      "Rear Window (1954) : Mystery|Thriller\n",
      "Ran (1985) : Drama|War\n",
      "Touch of Evil (1958) : Crime|Film-Noir|Thriller\n",
      "Chinatown (1974) : Crime|Film-Noir|Mystery|Thriller\n",
      "Cool Hand Luke (1967) : Drama\n",
      "Man Bites Dog (C'est arrivé près de chez vous) (1992) : Comedy|Crime|Drama|Thriller\n",
      "Boondock Saints, The (2000) : Action|Crime|Drama|Thriller\n",
      "Double Indemnity (1944) : Crime|Drama|Film-Noir\n",
      "Departed, The (2006) : Crime|Drama|Thriller\n"
     ]
    }
   ],
   "source": [
    "#test_performance = mean_absolute_error(test[\"rating\"], ratings)\n",
    "#print(\" Test Mae model 2 : %s \" % test_performance)\n",
    "\n",
    "\n",
    "print(\"Mostrando recomendaciones para la usuaria: {}\".format(user_id))\n",
    "print(\"====\" * 9)\n",
    "print(\"Películas con altas calificaciones del usuario\")\n",
    "print(\"----\" * 8)\n",
    "\n",
    "top_movies_user = (movies_watched_by_user.sort_values(by=\"rating\", ascending=False).head(5).movieId.values)\n",
    "movie_df_rows = movie_df[movie_df[\"movieId\"].isin(top_movies_user)]\n",
    "\n",
    "for row in movie_df_rows.itertuples():\n",
    "    print(row.title, \":\", row.genres)\n",
    "\n",
    "print(\"----\" * 8)\n",
    "print(\"Las 10 mejores recomendaciones de películas\")\n",
    "print(\"----\" * 8)\n",
    "\n",
    "recommended_movies = movie_df[movie_df[\"movieId\"].isin(recommended_movie_ids)]\n",
    "for row in recommended_movies.itertuples():\n",
    "    print(row.title, \":\", row.genres)"
   ]
  }
 ],
 "metadata": {
  "accelerator": "GPU",
  "colab": {
   "name": "KerasRecomendation.ipynb",
   "provenance": []
  },
  "kernelspec": {
   "display_name": "Python 3",
   "language": "python",
   "name": "python3"
  },
  "language_info": {
   "codemirror_mode": {
    "name": "ipython",
    "version": 3
   },
   "file_extension": ".py",
   "mimetype": "text/x-python",
   "name": "python",
   "nbconvert_exporter": "python",
   "pygments_lexer": "ipython3",
   "version": "3.7.6"
  }
 },
 "nbformat": 4,
 "nbformat_minor": 1
}
